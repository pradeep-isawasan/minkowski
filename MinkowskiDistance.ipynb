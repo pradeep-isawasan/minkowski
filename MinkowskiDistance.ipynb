{
  "nbformat": 4,
  "nbformat_minor": 0,
  "metadata": {
    "colab": {
      "name": "MinkowskiDistance.ipynb",
      "provenance": [],
      "authorship_tag": "ABX9TyOS7GOczodsg8nKSAZ11La2",
      "include_colab_link": true
    },
    "kernelspec": {
      "name": "python3",
      "display_name": "Python 3"
    }
  },
  "cells": [
    {
      "cell_type": "markdown",
      "metadata": {
        "id": "view-in-github",
        "colab_type": "text"
      },
      "source": [
        "<a href=\"https://colab.research.google.com/github/pradeep-isawasan/minkowski/blob/master/MinkowskiDistance.ipynb\" target=\"_parent\"><img src=\"https://colab.research.google.com/assets/colab-badge.svg\" alt=\"Open In Colab\"/></a>"
      ]
    },
    {
      "cell_type": "code",
      "metadata": {
        "id": "ZU050Yw_j9pz",
        "colab_type": "code",
        "colab": {
          "base_uri": "https://localhost:8080/",
          "height": 34
        },
        "outputId": "acb20360-ab35-4ec0-f1bd-63cec6bb62d8"
      },
      "source": [
        "from scipy.spatial import minkowski_distance\n",
        "\n",
        "#Manhattan Distance\n",
        "minkowski_distance([3,6], [5, 3], p = 1)"
      ],
      "execution_count": 28,
      "outputs": [
        {
          "output_type": "execute_result",
          "data": {
            "text/plain": [
              "5.0"
            ]
          },
          "metadata": {
            "tags": []
          },
          "execution_count": 28
        }
      ]
    },
    {
      "cell_type": "code",
      "metadata": {
        "id": "E4kfpW6FoRgr",
        "colab_type": "code",
        "colab": {
          "base_uri": "https://localhost:8080/",
          "height": 34
        },
        "outputId": "7049d1be-d914-475b-992a-a77b886b915e"
      },
      "source": [
        "#Euclidean Distance\n",
        "minkowski_distance([3,6], [5, 3], p = 2)"
      ],
      "execution_count": 29,
      "outputs": [
        {
          "output_type": "execute_result",
          "data": {
            "text/plain": [
              "3.605551275463989"
            ]
          },
          "metadata": {
            "tags": []
          },
          "execution_count": 29
        }
      ]
    },
    {
      "cell_type": "code",
      "metadata": {
        "id": "s2Bab1SooXvt",
        "colab_type": "code",
        "colab": {
          "base_uri": "https://localhost:8080/",
          "height": 34
        },
        "outputId": "9c1bbff3-472c-4108-d9ef-d4912c8d5bf3"
      },
      "source": [
        "#Supremum Distance\n",
        "minkowski_distance([3,6], [5, 3], p = float('inf'))"
      ],
      "execution_count": 30,
      "outputs": [
        {
          "output_type": "execute_result",
          "data": {
            "text/plain": [
              "3.0"
            ]
          },
          "metadata": {
            "tags": []
          },
          "execution_count": 30
        }
      ]
    }
  ]
}